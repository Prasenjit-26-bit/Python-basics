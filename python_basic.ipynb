{
  "nbformat": 4,
  "nbformat_minor": 0,
  "metadata": {
    "colab": {
      "provenance": []
    },
    "kernelspec": {
      "name": "python3",
      "display_name": "Python 3"
    },
    "language_info": {
      "name": "python"
    }
  },
  "cells": [
    {
      "cell_type": "markdown",
      "source": [
        "#Python Basics\n"
      ],
      "metadata": {
        "id": "JlDjtDEoayWq"
      }
    },
    {
      "cell_type": "markdown",
      "source": [
        "#1. What is Python, and why is it popular?\n",
        "   - Python is a programming language that's popular because it's versatile, easy to learn, and can run on many platforms. It's used for a variety of tasks, including data science, machine learning, and web development.\n",
        "\n",
        "#2. What is an interpreter in Python?\n",
        "-  A python interpreter is a computer program that converts each high-level program statement into machine code. An interpreter translates the command that you write out into code that the computer can understand. However, to better understand this definition, we must explain what high-level and low-level languages are.\n",
        "\n",
        "#3.  What are pre-defined keywords in Python?\n",
        "- Python Keywords are some predefined and reserved words in Python that have special meanings. Keywords are used to define the syntax of the coding. The keyword cannot be used as an identifier, function, or variable name. All the keywords in Python are written in lowercase except True and False.\n",
        "\n",
        "#4. Can keywords be used as variable names?\n",
        "- No, you cannot use keywords as variable names in Python. Keywords are reserved words that define the language's structure and syntax rules.\n",
        "\n",
        "#5. What is mutability in Python?\n",
        "- In Python, mutability is the ability to change the value or state of an object after it has been created. Mutable objects can be modified in place, which means that the original object is changed, rather than a new object being created.\n",
        "\n",
        "#6. Why are lists mutable, but tuples are immutable?\n",
        "- The main difference between tuples and lists is that tuples are immutable, meaning their contents cannot be changed after creation, while lists are mutable and can be modified. Additionally, tuples are more memory-efficient compared to lists. Tuples can't be changed after they're created, but lists can be modified.\n",
        "\n",
        "#7. What is the difference between “==” and “is” operators in Python?\n",
        "- In Python, the == operator compares the values of two objects, while the is operator checks if the objects are the same.\n",
        "\n",
        "#8. What are logical operators in Python?\n",
        "- Logical operators in Python are keywords that evaluate conditions and combine multiple expressions. They are used in conditional statements to create decision-making processes.\n",
        "\n",
        "*Types of logical operators*\n",
        "- AND: Returns True if both operands are true\n",
        "- OR: Returns True if either operand is true\n",
        "- NOT: Reverses the result, returning False if the result is true\n",
        "\n",
        "#9. What is type casting in Python?\n",
        "- Type Casting is the method to convert the Python variable datatype into a certain data type in order to perform the required operation by users. In this article, we will see the various techniques for typecasting. There can be two types of Type Casting in Python: Python Implicit Type Conversion.\n",
        "\n",
        "#10. What is the difference between implicit and explicit type casting?\n",
        "- Implicit type casting happens automatically when converting data types, while explicit type casting requires a manual instruction from the programmer to convert a value from one type to another.\n",
        "\n",
        "#11. What is the purpose of conditional statements in Python?\n",
        "- Conditional statements in Python are used to execute a specific block of code based on the truth value of a condition. The most common conditional statements in Python are if , elif and else . These allow the program to react differently depending on whether a condition (or a series of conditions) is true or false.\n",
        "\n",
        "#12. How does the elif statement work?\n",
        "- 'Elif' stands for 'else if' and is used in Python programming to test multiple conditions. It is written following an if statement in Python to check an alternative condition if the first condition is false. The code block under the elif statement will be executed only if its condition is true.\n",
        "\n",
        "#13. What is the difference between for and while loops?\n",
        "- The main difference between a for loop and a while loop is the number of times the code is repeated:\n",
        "\n",
        "- **For loop:** Repeats a section of code a known number of times.\n",
        "- **While loop:** Repeats a section of code an unknown number of times until a condition is met.\n",
        "\n",
        "#14. Describe a scenario where a while loop is more suitable than a for loop.\n",
        "- In contrast to a 'for' loop, which is generally used when the number of iterations is known beforehand, a 'while' loop is ideal for situations where the number of iterations is not predetermined and depends on some dynamic condition.\n"
      ],
      "metadata": {
        "id": "pD2YaVUxP2QE"
      }
    },
    {
      "cell_type": "markdown",
      "source": [
        "#Practical Questions"
      ],
      "metadata": {
        "id": "AY14s_ldew2a"
      }
    },
    {
      "cell_type": "code",
      "source": [
        "#1. Write a Python program to print \"Hello, World!\n",
        "\n",
        "a = \"Hello, World!\"\n",
        "print(a)"
      ],
      "metadata": {
        "colab": {
          "base_uri": "https://localhost:8080/"
        },
        "id": "zlDQuLHPe8ZX",
        "outputId": "027e76a4-d6bd-48a8-b95b-16e846fe44ef"
      },
      "execution_count": null,
      "outputs": [
        {
          "output_type": "stream",
          "name": "stdout",
          "text": [
            "Hello, World!\n"
          ]
        }
      ]
    },
    {
      "cell_type": "code",
      "source": [
        "#2. Write a Python program that displays your name and age.\n",
        "\n",
        "name = \"Prasenjit Bansod\"\n",
        "age = 22\n",
        "print(\"name:\", name)\n",
        "print(\"age:\", age)"
      ],
      "metadata": {
        "colab": {
          "base_uri": "https://localhost:8080/"
        },
        "id": "0ghv_fz8fcWZ",
        "outputId": "6c4864dd-f7dd-4a39-fb28-2d0336b83bd9"
      },
      "execution_count": null,
      "outputs": [
        {
          "output_type": "stream",
          "name": "stdout",
          "text": [
            "name: Prasenjit Bansod\n",
            "age: 22\n"
          ]
        }
      ]
    },
    {
      "cell_type": "code",
      "source": [
        "#3. Write code to print all the pre-defined keywords in Python using the keyword library.\n",
        "\n",
        "help('keywords')\n"
      ],
      "metadata": {
        "colab": {
          "base_uri": "https://localhost:8080/"
        },
        "id": "PXfntRxLgiMZ",
        "outputId": "da08c5b8-7100-433e-fa58-418eb35dd21c"
      },
      "execution_count": null,
      "outputs": [
        {
          "output_type": "stream",
          "name": "stdout",
          "text": [
            "\n",
            "Here is a list of the Python keywords.  Enter any keyword to get more help.\n",
            "\n",
            "False               class               from                or\n",
            "None                continue            global              pass\n",
            "True                def                 if                  raise\n",
            "and                 del                 import              return\n",
            "as                  elif                in                  try\n",
            "assert              else                is                  while\n",
            "async               except              lambda              with\n",
            "await               finally             nonlocal            yield\n",
            "break               for                 not                 \n",
            "\n"
          ]
        }
      ]
    },
    {
      "cell_type": "code",
      "source": [
        "#4. Write a program that checks if a given word is a Python keyword.\n",
        "\n",
        "keywords = [\"False\", \"None\", \"True\", \"and\", \"as\", \"assert\", \"async\", \"await\",\n",
        "            \"break\", \"class\", \"continue\", \"def\", \"del\", \"elif\", \"else\", \"except\",\n",
        "            \"finally\", \"for\", \"from\", \"global\", \"if\", \"import\", \"in\", \"is\",\n",
        "            \"lambda\", \"nonlocal\", \"not\", \"or\", \"pass\", \"raise\", \"return\",\n",
        "            \"try\", \"while\", \"with\", \"yield\"]\n",
        "\n",
        "word = input(\"Enter a word: \")\n",
        "\n",
        "if word in keywords:\n",
        "  print(\"It is a Python Keyword!\")\n",
        "else:\n",
        "  print(\"It is a NOT Python Keyword!\")"
      ],
      "metadata": {
        "colab": {
          "base_uri": "https://localhost:8080/"
        },
        "id": "_BofEG2mhPO0",
        "outputId": "997b77cd-ab65-4ffe-bb13-e044223f01fd"
      },
      "execution_count": null,
      "outputs": [
        {
          "output_type": "stream",
          "name": "stdout",
          "text": [
            "Enter a word: True\n",
            "It is a Python Keyword!\n"
          ]
        }
      ]
    },
    {
      "cell_type": "code",
      "source": [
        "#5. Create a list and tuple in Python, and demonstrate how attempting to change an element works differently for each.\n",
        "#list is mutable\n",
        "\n",
        "list = [1, 2, 3, 4, 5, 6, 7, 8, 9]\n",
        "list\n"
      ],
      "metadata": {
        "colab": {
          "base_uri": "https://localhost:8080/"
        },
        "id": "AqXYaa9VmCSI",
        "outputId": "f9b83154-c599-48fa-e28d-abc1373c0552"
      },
      "execution_count": null,
      "outputs": [
        {
          "output_type": "execute_result",
          "data": {
            "text/plain": [
              "[1, 2, 3, 4, 5, 6, 7, 8, 9]"
            ]
          },
          "metadata": {},
          "execution_count": 16
        }
      ]
    },
    {
      "cell_type": "code",
      "source": [
        "print(type(list))\n",
        "print(len(list))"
      ],
      "metadata": {
        "colab": {
          "base_uri": "https://localhost:8080/"
        },
        "id": "VBKZyRTwm0Xl",
        "outputId": "74b1f553-60f6-4264-d760-7d450e4de57e"
      },
      "execution_count": null,
      "outputs": [
        {
          "output_type": "stream",
          "name": "stdout",
          "text": [
            "<class 'list'>\n",
            "9\n"
          ]
        }
      ]
    },
    {
      "cell_type": "code",
      "source": [
        "list[1] = \"Prasenjit\"\n",
        "print(\"modified list:\", list)"
      ],
      "metadata": {
        "colab": {
          "base_uri": "https://localhost:8080/"
        },
        "id": "J1FAXYaWn66R",
        "outputId": "b8dec76f-d8ca-4fa2-a59f-e00c17a2737f"
      },
      "execution_count": null,
      "outputs": [
        {
          "output_type": "stream",
          "name": "stdout",
          "text": [
            "modified list: [1, 'Prasenjit', 3, 4, 5, 6, 7, 8, 9]\n"
          ]
        }
      ]
    },
    {
      "cell_type": "code",
      "source": [
        "#tuples is immutable\n",
        "\n",
        "tuple = (\"prasenjit\", \"Prakash\", \"Bansod\")\n",
        "tuple"
      ],
      "metadata": {
        "colab": {
          "base_uri": "https://localhost:8080/"
        },
        "id": "sO-Q3dW1saCx",
        "outputId": "93401f25-737c-4b01-89c5-ea3363a70638"
      },
      "execution_count": null,
      "outputs": [
        {
          "output_type": "execute_result",
          "data": {
            "text/plain": [
              "('prasenjit', 'Prakash', 'Bansod')"
            ]
          },
          "metadata": {},
          "execution_count": 22
        }
      ]
    },
    {
      "cell_type": "code",
      "source": [
        "print(type(tuple))\n",
        "print(len(tuple))"
      ],
      "metadata": {
        "colab": {
          "base_uri": "https://localhost:8080/"
        },
        "id": "PDOzXIDDs9HC",
        "outputId": "1a6e2cd1-0250-4bba-cd5a-99af615f1fc8"
      },
      "execution_count": null,
      "outputs": [
        {
          "output_type": "stream",
          "name": "stdout",
          "text": [
            "<class 'tuple'>\n",
            "3\n"
          ]
        }
      ]
    },
    {
      "cell_type": "code",
      "source": [
        "tuple[0]"
      ],
      "metadata": {
        "colab": {
          "base_uri": "https://localhost:8080/",
          "height": 36
        },
        "id": "UyIM7hxutPqt",
        "outputId": "bccd7d65-d1ca-4978-e349-efd18c74c480"
      },
      "execution_count": null,
      "outputs": [
        {
          "output_type": "execute_result",
          "data": {
            "text/plain": [
              "'prasenjit'"
            ],
            "application/vnd.google.colaboratory.intrinsic+json": {
              "type": "string"
            }
          },
          "metadata": {},
          "execution_count": 26
        }
      ]
    },
    {
      "cell_type": "code",
      "source": [
        "tuple[0] = 100          # this will throw error because tuples are immutable"
      ],
      "metadata": {
        "colab": {
          "base_uri": "https://localhost:8080/",
          "height": 141
        },
        "id": "P4iE2AUDtsnv",
        "outputId": "4ccdafc4-6691-48a5-b125-4974c39faaf8"
      },
      "execution_count": null,
      "outputs": [
        {
          "output_type": "error",
          "ename": "TypeError",
          "evalue": "'tuple' object does not support item assignment",
          "traceback": [
            "\u001b[0;31m---------------------------------------------------------------------------\u001b[0m",
            "\u001b[0;31mTypeError\u001b[0m                                 Traceback (most recent call last)",
            "\u001b[0;32m<ipython-input-30-5a08a43c9454>\u001b[0m in \u001b[0;36m<cell line: 0>\u001b[0;34m()\u001b[0m\n\u001b[0;32m----> 1\u001b[0;31m \u001b[0mtuple\u001b[0m\u001b[0;34m[\u001b[0m\u001b[0;36m0\u001b[0m\u001b[0;34m]\u001b[0m \u001b[0;34m=\u001b[0m \u001b[0;36m100\u001b[0m          \u001b[0;31m# this will throw error because tuples are immutable\u001b[0m\u001b[0;34m\u001b[0m\u001b[0;34m\u001b[0m\u001b[0m\n\u001b[0m",
            "\u001b[0;31mTypeError\u001b[0m: 'tuple' object does not support item assignment"
          ]
        }
      ]
    },
    {
      "cell_type": "code",
      "source": [
        "#6. Write a function to demonstrate the behavior of mutable and immutable arguments.\n",
        "\n",
        "def modify_values(immutable, mutable):\n",
        "    # Trying to change an immutable variable (integer)\n",
        "    immutable += 10\n",
        "    print(\"Inside function (immutable):\", immutable)\n",
        "\n",
        "    # Changing a mutable variable (list)\n",
        "    mutable.append(4)\n",
        "    print(\"Inside function (mutable):\", mutable)\n",
        "\n",
        "# Immutable variable (integer)\n",
        "num = 5\n",
        "\n",
        "# Mutable variable (list)\n",
        "lst = [1, 2, 3]\n",
        "\n",
        "print(\"Before function call:\")\n",
        "print(\"Immutable:\", num)\n",
        "print(\"Mutable:\", lst)\n",
        "\n",
        "# Function call\n",
        "modify_values(num, lst)\n",
        "\n",
        "print(\"After function call:\")\n",
        "print(\"Immutable:\", num)  # Unchanged\n",
        "print(\"Mutable:\", lst)    # Changed\n"
      ],
      "metadata": {
        "id": "pXhkqnCculV_",
        "colab": {
          "base_uri": "https://localhost:8080/"
        },
        "outputId": "5d6aa0d5-4546-46b4-dfaf-aa841306d9f3"
      },
      "execution_count": 31,
      "outputs": [
        {
          "output_type": "stream",
          "name": "stdout",
          "text": [
            "Before function call:\n",
            "Immutable: 5\n",
            "Mutable: [1, 2, 3]\n",
            "Inside function (immutable): 15\n",
            "Inside function (mutable): [1, 2, 3, 4]\n",
            "After function call:\n",
            "Immutable: 5\n",
            "Mutable: [1, 2, 3, 4]\n"
          ]
        }
      ]
    },
    {
      "cell_type": "code",
      "source": [
        "#7. Write a function to demonstrate the behavior of mutable and immutable arguments.\n",
        "\n",
        "def modify(num, lst):\n",
        "    num = num + 1  # Immutable (integer) - does not change original value\n",
        "    lst.append(4)  # Mutable (list) - changes original list\n",
        "    print(\"Inside function:\")\n",
        "    print(\"num:\", num)\n",
        "    print(\"lst:\", lst)\n",
        "\n",
        "# Immutable variable (integer)\n",
        "a = 5\n",
        "# Mutable variable (list)\n",
        "b = [1, 2, 3]\n",
        "\n",
        "print(\"Before function call:\")\n",
        "print(\"a:\", a)\n",
        "print(\"b:\", b)\n",
        "\n",
        "modify(a, b)  # Call function\n",
        "\n",
        "print(\"After function call:\")\n",
        "print(\"a:\", a)  # Unchanged\n",
        "print(\"b:\", b)  # Changed\n"
      ],
      "metadata": {
        "colab": {
          "base_uri": "https://localhost:8080/"
        },
        "id": "90GclJ048X4G",
        "outputId": "acbb59d6-19c3-4252-f40b-4a2463eb6006"
      },
      "execution_count": 32,
      "outputs": [
        {
          "output_type": "stream",
          "name": "stdout",
          "text": [
            "Before function call:\n",
            "a: 5\n",
            "b: [1, 2, 3]\n",
            "Inside function:\n",
            "num: 6\n",
            "lst: [1, 2, 3, 4]\n",
            "After function call:\n",
            "a: 5\n",
            "b: [1, 2, 3, 4]\n"
          ]
        }
      ]
    },
    {
      "cell_type": "code",
      "source": [
        "#8. Write a program to demonstrate the use of logical operators.\n",
        "\n",
        "# Taking user input\n",
        "x = int(input(\"Enter first number: \"))\n",
        "y = int(input(\"Enter second number: \"))\n",
        "\n",
        "print(\"\\nLogical Operators Demonstration:\")\n",
        "\n",
        "# Using 'and' operator\n",
        "if x > 0 and y > 0:\n",
        "    print(\"Both numbers are positive.\")\n",
        "else:\n",
        "    print(\"At least one number is not positive.\")\n",
        "\n",
        "# Using 'or' operator\n",
        "if x > 0 or y > 0:\n",
        "    print(\"At least one number is positive.\")\n",
        "else:\n",
        "    print(\"Both numbers are non-positive.\")\n",
        "\n",
        "# Using 'not' operator\n",
        "if not (x > 0):\n",
        "    print(\"The first number is not positive.\")\n",
        "else:\n",
        "    print(\"The first number is positive.\")"
      ],
      "metadata": {
        "colab": {
          "base_uri": "https://localhost:8080/"
        },
        "id": "f5SuSMq48yTH",
        "outputId": "0ca794ad-fee9-44fb-b318-0468cd9a3f6b"
      },
      "execution_count": 35,
      "outputs": [
        {
          "output_type": "stream",
          "name": "stdout",
          "text": [
            "Enter first number: 5\n",
            "Enter second number: 4\n",
            "\n",
            "Logical Operators Demonstration:\n",
            "Both numbers are positive.\n",
            "At least one number is positive.\n",
            "The first number is positive.\n"
          ]
        }
      ]
    },
    {
      "cell_type": "code",
      "source": [
        "#9. Write a Python program to convert user input from string to integer, float, and boolean types.\n",
        "\n",
        "user_input = input(\"Enter value:\")    #it is by default string \"str\"\n",
        "print(user_input)\n",
        "\n",
        "type(user_input)"
      ],
      "metadata": {
        "colab": {
          "base_uri": "https://localhost:8080/"
        },
        "id": "21mq5a2v_1ea",
        "outputId": "ecba446c-76c6-49f0-e4e9-76aa479553db"
      },
      "execution_count": 41,
      "outputs": [
        {
          "output_type": "stream",
          "name": "stdout",
          "text": [
            "Enter value:5\n",
            "5\n"
          ]
        },
        {
          "output_type": "execute_result",
          "data": {
            "text/plain": [
              "str"
            ]
          },
          "metadata": {},
          "execution_count": 41
        }
      ]
    },
    {
      "cell_type": "code",
      "source": [
        "int_value = int(user_input)    #input string into int\n",
        "print(\"Integer:\", int_value)\n",
        "\n",
        "float_value = float(user_input)  #input string into float\n",
        "print(\"Float:\", float_value)\n",
        "\n",
        "bool_value = bool(user_input)   #input string into bool\n",
        "print(\"Boolean:\", bool_value)"
      ],
      "metadata": {
        "colab": {
          "base_uri": "https://localhost:8080/"
        },
        "id": "-Xqiddp-D6FT",
        "outputId": "d3682721-c3c3-4be3-b0da-3c45b58d24fd"
      },
      "execution_count": 42,
      "outputs": [
        {
          "output_type": "stream",
          "name": "stdout",
          "text": [
            "Integer: 5\n",
            "Float: 5.0\n",
            "Boolean: True\n"
          ]
        }
      ]
    },
    {
      "cell_type": "code",
      "source": [
        "#10. Write code to demonstrate type casting with list elements.\n",
        "\n",
        "# List with mixed data types as strings\n",
        "data = [\"10\", \"20.5\", \"30\", \"True\", \"False\", \"hello\", \"0\"]\n",
        "\n",
        "# Type casting elements\n",
        "int_list = [int(x) for x in data if x.isdigit()]  # Convert to integers (only valid whole numbers)\n",
        "float_list = [float(x) for x in data if x.replace('.', '', 1).isdigit()]  # Convert to floats\n",
        "bool_list = [False if x == \"False\" else True for x in data]  # Convert to boolean (only \"False\" becomes False)\n",
        "\n",
        "# Printing the converted lists\n",
        "print(\"Original List:\", data)\n",
        "print(\"Integer List:\", int_list)\n",
        "print(\"Float List:\", float_list)\n",
        "print(\"Boolean List:\", bool_list)\n"
      ],
      "metadata": {
        "colab": {
          "base_uri": "https://localhost:8080/"
        },
        "id": "OdJr2VwtD9ZO",
        "outputId": "77eb85f0-79fe-43ba-a7a0-f3b3383d80b2"
      },
      "execution_count": 49,
      "outputs": [
        {
          "output_type": "stream",
          "name": "stdout",
          "text": [
            "Original List: ['10', '20.5', '30', 'True', 'False', 'hello', '0']\n",
            "Integer List: [10, 30, 0]\n",
            "Float List: [10.0, 20.5, 30.0, 0.0]\n",
            "Boolean List: [True, True, True, True, False, True, True]\n"
          ]
        }
      ]
    },
    {
      "cell_type": "code",
      "source": [
        "#11. Write a program that checks if a number is positive, negative, or zero.\n",
        "\n",
        "num = int(input(\"Ether a number:\"))\n",
        "\n",
        "if num > 0:\n",
        "  print(\"Number is Positive\")\n",
        "elif num < 0:\n",
        "  print(\"Number is Negative\")\n",
        "else:\n",
        "  print(\"Number is zero\")\n"
      ],
      "metadata": {
        "colab": {
          "base_uri": "https://localhost:8080/"
        },
        "id": "d_Swyiq4IPVL",
        "outputId": "2956a261-7987-4193-ab13-a6d792d0edac"
      },
      "execution_count": 53,
      "outputs": [
        {
          "output_type": "stream",
          "name": "stdout",
          "text": [
            "Ether a number:-9\n",
            "Number is Negative\n"
          ]
        }
      ]
    },
    {
      "cell_type": "code",
      "source": [
        "#12.  Write a for loop to print numbers from 1 to 10.\n",
        "\n",
        "for i in range(1, 11):\n",
        "  print(i)"
      ],
      "metadata": {
        "colab": {
          "base_uri": "https://localhost:8080/"
        },
        "id": "9EUay_OrJnYT",
        "outputId": "522b52f3-39aa-4015-928f-6e678a436756"
      },
      "execution_count": 55,
      "outputs": [
        {
          "output_type": "stream",
          "name": "stdout",
          "text": [
            "1\n",
            "2\n",
            "3\n",
            "4\n",
            "5\n",
            "6\n",
            "7\n",
            "8\n",
            "9\n",
            "10\n"
          ]
        }
      ]
    },
    {
      "cell_type": "code",
      "source": [
        "#using while loop.\n",
        "\n",
        "i = 1\n",
        "while i <= 10:\n",
        "  print(i)\n",
        "  i += 1"
      ],
      "metadata": {
        "colab": {
          "base_uri": "https://localhost:8080/"
        },
        "id": "CyH873ZOXNvM",
        "outputId": "69a1177a-754b-4bf7-e8f4-90874f5cbcf1"
      },
      "execution_count": 85,
      "outputs": [
        {
          "output_type": "stream",
          "name": "stdout",
          "text": [
            "1\n",
            "2\n",
            "3\n",
            "4\n",
            "5\n",
            "6\n",
            "7\n",
            "8\n",
            "9\n",
            "10\n"
          ]
        }
      ]
    },
    {
      "cell_type": "code",
      "source": [
        "#13. Write a Python program to find the sum of all even numbers between 1 and 50.\n",
        "\n",
        "sum = 0\n",
        "\n",
        "for i in range(1, 51):\n",
        "  if i % 2 == 0:\n",
        "    sum += i\n",
        "\n",
        "print(\"sum of number between 1 and 50:\")\n"
      ],
      "metadata": {
        "colab": {
          "base_uri": "https://localhost:8080/"
        },
        "id": "PAq-tx5TKaCz",
        "outputId": "2fe30ddd-4c0a-461a-84fd-401eec430a99"
      },
      "execution_count": 86,
      "outputs": [
        {
          "output_type": "stream",
          "name": "stdout",
          "text": [
            "sum of number between 1 and 50:\n"
          ]
        }
      ]
    },
    {
      "cell_type": "code",
      "source": [
        "#14. Write a program to reverse a string using a while loop.\n",
        "\n",
        "name = \"Prasenjit\"\n",
        "reversed_name = \"\"\n",
        "i = len(name) - 1\n",
        "\n",
        "while i >= 0:\n",
        "    reversed_name += name[i]\n",
        "    i -= 1\n",
        "\n",
        "print(reversed_name)\n"
      ],
      "metadata": {
        "colab": {
          "base_uri": "https://localhost:8080/"
        },
        "id": "D4NusialY1xU",
        "outputId": "8da7ff96-da6f-4371-f71a-9e15a462fefa"
      },
      "execution_count": 87,
      "outputs": [
        {
          "output_type": "stream",
          "name": "stdout",
          "text": [
            "tijnesarP\n"
          ]
        }
      ]
    },
    {
      "cell_type": "code",
      "source": [
        "#15. Write a Python program to calculate the factorial of a number provided by the user using a while loop.\n",
        "\n",
        "user_input = int(input(\"Enter a number:\"))\n",
        "fact = 1\n",
        "i = 1\n",
        "\n",
        "while i <= user_input:\n",
        "  fact *= i\n",
        "  i += 1\n",
        "print(\"Factorial =\",)"
      ],
      "metadata": {
        "colab": {
          "base_uri": "https://localhost:8080/"
        },
        "id": "qtwvU_XkTm4w",
        "outputId": "62865339-d4e6-44a3-db68-cd1ec1e947ec"
      },
      "execution_count": 83,
      "outputs": [
        {
          "output_type": "stream",
          "name": "stdout",
          "text": [
            "Enter a number:5\n",
            "Factorial = 120\n"
          ]
        }
      ]
    },
    {
      "cell_type": "code",
      "source": [
        "# in for loop\n",
        "\n",
        "user_input = int(input(\"Enter a number:\"))\n",
        "fact = 1\n",
        "\n",
        "for i in range(1, user_input +1):\n",
        "  fact *= i\n",
        "\n",
        "print(\"Factorial: \", fact)"
      ],
      "metadata": {
        "colab": {
          "base_uri": "https://localhost:8080/"
        },
        "id": "Qq18TTKRVt23",
        "outputId": "07994e93-cff6-4efa-824b-eb6052f747f1"
      },
      "execution_count": 84,
      "outputs": [
        {
          "output_type": "stream",
          "name": "stdout",
          "text": [
            "Enter a number:5\n",
            "Factorial:  120\n"
          ]
        }
      ]
    }
  ]
}